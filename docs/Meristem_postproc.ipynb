{
 "cells": [
  {
   "cell_type": "markdown",
   "id": "4f924803-b8ce-4a66-af57-f4a46a746246",
   "metadata": {},
   "source": [
    "# Post-processing examples"
   ]
  },
  {
   "cell_type": "code",
   "execution_count": 1,
   "id": "79dc8d33-6d46-442b-9368-f49e91a69bbf",
   "metadata": {},
   "outputs": [],
   "source": [
    "#%load_ext autoreload\n",
    "#%autoreload 2"
   ]
  },
  {
   "cell_type": "code",
   "execution_count": 1,
   "id": "ce563317-41b1-4265-96aa-c4391ad41deb",
   "metadata": {},
   "outputs": [
    {
     "name": "stdout",
     "output_type": "stream",
     "text": [
      "\n",
      "\n",
      "Welcome to CellposeSAM, cellpose v\n",
      "cellpose version: \t4.0.6 \n",
      "platform:       \tdarwin \n",
      "python version: \t3.10.18 \n",
      "torch version:  \t2.8.0! The neural network component of\n",
      "CPSAM is much larger than in previous versions and CPU excution is slow. \n",
      "We encourage users to use GPU/MPS if available. \n",
      "\n",
      "\n"
     ]
    }
   ],
   "source": [
    "from napari_meristem import postproc\n",
    "import numpy as np\n",
    "from anytree import Node, RenderTree\n",
    "from anytree.render import AsciiStyle, ContStyle\n",
    "import pandas as pd\n",
    "import matplotlib.pyplot as plt\n",
    "from napari_meristem import postproc"
   ]
  },
  {
   "cell_type": "markdown",
   "id": "a9f381d2-c2b8-4e3a-8b67-7386cb593d9f",
   "metadata": {},
   "source": [
    "First run the interactive plugins to (1) stitch the FOVs, (2) register the time points, (3) segment cells, (4) Manually track complexes of interest. All the data should now be available in an `export_folder` containing stack data and folders with information about tracked complexes.\n",
    "\n",
    "**Set the ```export_folder``` and whether to use the manually fixed data or not**:"
   ]
  },
  {
   "cell_type": "code",
   "execution_count": 2,
   "id": "8e2d8ddd-ae52-4036-8fc3-246955b2b439",
   "metadata": {},
   "outputs": [],
   "source": [
    "# set export folder\n",
    "export_folder = '/Users/gw18g940/Desktop/Test_data/Raissig/Kalanchoëdata/test_export_stack1'\n",
    "\n",
    "# use manually fixed data\n",
    "manual = True"
   ]
  },
  {
   "cell_type": "markdown",
   "id": "42db0fba-c41a-46ee-8273-b0750cb26ef1",
   "metadata": {},
   "source": [
    "## Compute properties\n",
    "\n",
    "In this section the data are loaded and properties of cells computed. No user interaction needed:"
   ]
  },
  {
   "cell_type": "code",
   "execution_count": 3,
   "id": "04cd0a1b-159b-4dd1-9d05-dbeca96980bc",
   "metadata": {},
   "outputs": [],
   "source": [
    "complex_list = postproc.get_complexes_path(export_folder)\n",
    "\n",
    "if manual:\n",
    "    prefix = 'manual_'\n",
    "else:\n",
    "    prefix = ''\n",
    "\n",
    "# compute props for ALL segmented data\n",
    "mask_stitched, props = postproc.get_stack_props(\n",
    "    export_folder, stack_type='stitched', prefix=prefix)"
   ]
  },
  {
   "cell_type": "markdown",
   "id": "d5637407-7080-42ee-9e59-5ebcfcc374ba",
   "metadata": {},
   "source": [
    "## Load information\n",
    "\n",
    "The following list of complexes was found:"
   ]
  },
  {
   "cell_type": "code",
   "execution_count": 4,
   "id": "e304a27a-1103-4002-8c4f-ce5d456286d6",
   "metadata": {},
   "outputs": [
    {
     "name": "stdout",
     "output_type": "stream",
     "text": [
      "index 0: complex_0\n",
      "index 1: complex_1\n",
      "index 2: complex_2\n",
      "index 3: complex_3\n",
      "index 4: complex_4\n"
     ]
    }
   ],
   "source": [
    "for ind, c in enumerate(complex_list):\n",
    "    print(f'index {ind}: {c.name}')"
   ]
  },
  {
   "cell_type": "markdown",
   "id": "03f5d13a-a566-4635-ad3e-0344301dcaf4",
   "metadata": {},
   "source": [
    "Here we load the track information for a given complex, add relevant information to the tracks, such as the area (needs to be in the props) and creates a tree structure. The latter can incorporate properties that have been added to the track. First pick an index:"
   ]
  },
  {
   "cell_type": "code",
   "execution_count": 5,
   "id": "551b6a71-5cfa-4696-84d3-8ec1ec520a10",
   "metadata": {},
   "outputs": [],
   "source": [
    "complex_id = 2"
   ]
  },
  {
   "cell_type": "code",
   "execution_count": 6,
   "id": "16bbc6a8-eb03-410c-a945-45e00e85f00c",
   "metadata": {},
   "outputs": [],
   "source": [
    "current_track, graph = postproc.load_complex_track(complex_list[complex_id])\n",
    "current_track = postproc.add_feature_to_track(current_track, props, 'area')\n",
    "\n",
    "all_trees = postproc.create_cell_tree(current_track, graph, properties=['t', 'area'])"
   ]
  },
  {
   "cell_type": "markdown",
   "id": "22e8c7e8-247d-491b-a564-ff5e864e484d",
   "metadata": {},
   "source": [
    "```current_track``` is a DataFrame where each line is a point of track. The various tracks are identified using ```track_id```, ```txy```, locate the cell, ```label``` is the mask label of the cells at that ```txy```, ```identity``` is an optional feature that can indicate the type of cell and area is the size of the cell at that ```txy```:"
   ]
  },
  {
   "cell_type": "code",
   "execution_count": 7,
   "id": "a3f38f95-3ebc-41d2-ace4-006f257f4f2f",
   "metadata": {},
   "outputs": [
    {
     "data": {
      "text/html": [
       "<div>\n",
       "<style scoped>\n",
       "    .dataframe tbody tr th:only-of-type {\n",
       "        vertical-align: middle;\n",
       "    }\n",
       "\n",
       "    .dataframe tbody tr th {\n",
       "        vertical-align: top;\n",
       "    }\n",
       "\n",
       "    .dataframe thead th {\n",
       "        text-align: right;\n",
       "    }\n",
       "</style>\n",
       "<table border=\"1\" class=\"dataframe\">\n",
       "  <thead>\n",
       "    <tr style=\"text-align: right;\">\n",
       "      <th></th>\n",
       "      <th>track_id</th>\n",
       "      <th>t</th>\n",
       "      <th>y</th>\n",
       "      <th>x</th>\n",
       "      <th>label</th>\n",
       "      <th>identity</th>\n",
       "      <th>area</th>\n",
       "    </tr>\n",
       "  </thead>\n",
       "  <tbody>\n",
       "    <tr>\n",
       "      <th>0</th>\n",
       "      <td>0</td>\n",
       "      <td>0</td>\n",
       "      <td>816</td>\n",
       "      <td>773</td>\n",
       "      <td>475</td>\n",
       "      <td>NaN</td>\n",
       "      <td>391.0</td>\n",
       "    </tr>\n",
       "    <tr>\n",
       "      <th>1</th>\n",
       "      <td>0</td>\n",
       "      <td>1</td>\n",
       "      <td>816</td>\n",
       "      <td>767</td>\n",
       "      <td>479</td>\n",
       "      <td>NaN</td>\n",
       "      <td>454.0</td>\n",
       "    </tr>\n",
       "    <tr>\n",
       "      <th>2</th>\n",
       "      <td>1</td>\n",
       "      <td>2</td>\n",
       "      <td>816</td>\n",
       "      <td>761</td>\n",
       "      <td>441</td>\n",
       "      <td>NaN</td>\n",
       "      <td>306.0</td>\n",
       "    </tr>\n",
       "    <tr>\n",
       "      <th>3</th>\n",
       "      <td>1</td>\n",
       "      <td>3</td>\n",
       "      <td>818</td>\n",
       "      <td>773</td>\n",
       "      <td>380</td>\n",
       "      <td>NaN</td>\n",
       "      <td>386.0</td>\n",
       "    </tr>\n",
       "    <tr>\n",
       "      <th>4</th>\n",
       "      <td>1</td>\n",
       "      <td>4</td>\n",
       "      <td>822</td>\n",
       "      <td>771</td>\n",
       "      <td>336</td>\n",
       "      <td>NaN</td>\n",
       "      <td>512.0</td>\n",
       "    </tr>\n",
       "  </tbody>\n",
       "</table>\n",
       "</div>"
      ],
      "text/plain": [
       "   track_id  t    y    x  label identity   area\n",
       "0         0  0  816  773    475      NaN  391.0\n",
       "1         0  1  816  767    479      NaN  454.0\n",
       "2         1  2  816  761    441      NaN  306.0\n",
       "3         1  3  818  773    380      NaN  386.0\n",
       "4         1  4  822  771    336      NaN  512.0"
      ]
     },
     "execution_count": 7,
     "metadata": {},
     "output_type": "execute_result"
    }
   ],
   "source": [
    "current_track.head(5)"
   ]
  },
  {
   "cell_type": "markdown",
   "id": "1aa8cceb-97fe-4044-a3b1-6d0cb6b3e708",
   "metadata": {},
   "source": [
    "```graph``` shows mother-daugher relationships beteween tracks:"
   ]
  },
  {
   "cell_type": "code",
   "execution_count": 8,
   "id": "55bac22c-c249-43a3-b8e5-7ecc356c1d82",
   "metadata": {},
   "outputs": [
    {
     "data": {
      "text/html": [
       "<div>\n",
       "<style scoped>\n",
       "    .dataframe tbody tr th:only-of-type {\n",
       "        vertical-align: middle;\n",
       "    }\n",
       "\n",
       "    .dataframe tbody tr th {\n",
       "        vertical-align: top;\n",
       "    }\n",
       "\n",
       "    .dataframe thead th {\n",
       "        text-align: right;\n",
       "    }\n",
       "</style>\n",
       "<table border=\"1\" class=\"dataframe\">\n",
       "  <thead>\n",
       "    <tr style=\"text-align: right;\">\n",
       "      <th></th>\n",
       "      <th>id</th>\n",
       "      <th>mother_id</th>\n",
       "    </tr>\n",
       "  </thead>\n",
       "  <tbody>\n",
       "    <tr>\n",
       "      <th>0</th>\n",
       "      <td>1</td>\n",
       "      <td>0</td>\n",
       "    </tr>\n",
       "    <tr>\n",
       "      <th>1</th>\n",
       "      <td>2</td>\n",
       "      <td>0</td>\n",
       "    </tr>\n",
       "    <tr>\n",
       "      <th>2</th>\n",
       "      <td>3</td>\n",
       "      <td>2</td>\n",
       "    </tr>\n",
       "    <tr>\n",
       "      <th>3</th>\n",
       "      <td>4</td>\n",
       "      <td>2</td>\n",
       "    </tr>\n",
       "    <tr>\n",
       "      <th>4</th>\n",
       "      <td>5</td>\n",
       "      <td>4</td>\n",
       "    </tr>\n",
       "    <tr>\n",
       "      <th>5</th>\n",
       "      <td>6</td>\n",
       "      <td>4</td>\n",
       "    </tr>\n",
       "  </tbody>\n",
       "</table>\n",
       "</div>"
      ],
      "text/plain": [
       "   id  mother_id\n",
       "0   1          0\n",
       "1   2          0\n",
       "2   3          2\n",
       "3   4          2\n",
       "4   5          4\n",
       "5   6          4"
      ]
     },
     "execution_count": 8,
     "metadata": {},
     "output_type": "execute_result"
    }
   ],
   "source": [
    "graph"
   ]
  },
  {
   "cell_type": "markdown",
   "id": "056b1134-fe49-488b-8354-b08902f1b443",
   "metadata": {},
   "source": [
    "```all_trees``` represents the cell tree. It is a dictionary where each key is a cell and each entry is a ```Node``` object containing: \n",
    "- mother-daughers relation\n",
    "- identity\n",
    "- track_id\n",
    "- props, a 2D array of time-area: ```[[t0, area at t0], [t1, area at t1], ...]```"
   ]
  },
  {
   "cell_type": "code",
   "execution_count": 9,
   "id": "52aaa52c-78f3-4664-a036-d090a53a5cbe",
   "metadata": {},
   "outputs": [
    {
     "data": {
      "text/plain": [
       "{'cell_0': Node('/cell_0', identity=nan, props=array([[  0., 391.],\n",
       "        [  1., 454.]]), track_id=np.int64(0)),\n",
       " 'cell_1': Node('/cell_0/cell_1', identity=nan, props=array([[   2.,  306.],\n",
       "        [   3.,  386.],\n",
       "        [   4.,  512.],\n",
       "        [   5.,  594.],\n",
       "        [   6.,  736.],\n",
       "        [   7.,  899.],\n",
       "        [   8., 1099.],\n",
       "        [   9., 1283.]]), track_id=1),\n",
       " 'cell_2': Node('/cell_0/cell_2', identity=nan, props=array([[  2., 195.],\n",
       "        [  3., 276.]]), track_id=2),\n",
       " 'cell_3': Node('/cell_0/cell_2/cell_3', identity=nan, props=array([[  4., 224.],\n",
       "        [  5., 299.],\n",
       "        [  6., 361.],\n",
       "        [  7., 461.],\n",
       "        [  8., 584.],\n",
       "        [  9., 734.]]), track_id=3),\n",
       " 'cell_4': Node('/cell_0/cell_2/cell_4', identity=nan, props=array([[  4., 202.],\n",
       "        [  5., 277.],\n",
       "        [  6., 383.]]), track_id=4),\n",
       " 'cell_5': Node('/cell_0/cell_2/cell_4/cell_5', identity='guard', props=array([[  7., 265.],\n",
       "        [  8., 419.],\n",
       "        [  9., 612.]]), track_id=5),\n",
       " 'cell_6': Node('/cell_0/cell_2/cell_4/cell_6', identity=nan, props=array([[  7., 312.],\n",
       "        [  8., 386.],\n",
       "        [  9., 502.]]), track_id=6)}"
      ]
     },
     "execution_count": 9,
     "metadata": {},
     "output_type": "execute_result"
    }
   ],
   "source": [
    "all_trees"
   ]
  },
  {
   "cell_type": "markdown",
   "id": "94f85881-05d3-4ec9-8ac2-a01a0edb53cc",
   "metadata": {},
   "source": [
    "The tree can be displayed:"
   ]
  },
  {
   "cell_type": "code",
   "execution_count": 10,
   "id": "081f40d2-c299-4ead-a72d-ce78552cb29a",
   "metadata": {},
   "outputs": [
    {
     "name": "stdout",
     "output_type": "stream",
     "text": [
      "cell_0 nan\n",
      "├── cell_1 nan\n",
      "└── cell_2 nan\n",
      "    ├── cell_3 nan\n",
      "    └── cell_4 nan\n",
      "        ├── cell_5 guard\n",
      "        └── cell_6 nan\n"
     ]
    }
   ],
   "source": [
    "postproc.display_tree(all_trees)"
   ]
  },
  {
   "cell_type": "markdown",
   "id": "9b091791-7d58-4da6-84ed-1d4bbd3f0d21",
   "metadata": {},
   "source": [
    "The above code is summarized in the function ```load_complex_data```:"
   ]
  },
  {
   "cell_type": "code",
   "execution_count": 11,
   "id": "dee1d6d1-cea0-41d4-a0e1-70dfe93f23f6",
   "metadata": {},
   "outputs": [],
   "source": [
    "complex_list, current_track, graph, all_trees = postproc.load_complex_data(\n",
    "    export_folder=export_folder, complex_id=complex_id, props=props, properties=('area'))"
   ]
  },
  {
   "cell_type": "markdown",
   "id": "115b87f7-cdb4-4048-bc58-cb1500302b41",
   "metadata": {},
   "source": [
    "As an example of the type of data that can be extracted, we show here ```get_division_event```, which, given an ```all_tree``` info, return for each division event the cell id and division time:"
   ]
  },
  {
   "cell_type": "code",
   "execution_count": 12,
   "id": "88e3b9f1-7a1c-4c52-806c-7e5573c8c03d",
   "metadata": {},
   "outputs": [],
   "source": [
    "division_events = postproc.get_division_event(all_trees)\n",
    "num_origins, origin_cells = postproc.get_origin_cells(all_trees)"
   ]
  },
  {
   "cell_type": "code",
   "execution_count": 13,
   "id": "d9f62198-ed6c-4e56-927e-99c704e32e6d",
   "metadata": {},
   "outputs": [
    {
     "data": {
      "text/plain": [
       "[{'id': 'cell_0', 'div_t': np.float64(1.0)},\n",
       " {'id': 'cell_2', 'div_t': np.float64(3.0)},\n",
       " {'id': 'cell_4', 'div_t': np.float64(6.0)}]"
      ]
     },
     "execution_count": 13,
     "metadata": {},
     "output_type": "execute_result"
    }
   ],
   "source": [
    "division_events"
   ]
  },
  {
   "cell_type": "markdown",
   "id": "58dc414a-eca5-4f15-9bee-f20f7031c469",
   "metadata": {},
   "source": [
    "Here we can see e.g. that ```cell_2``` divided at ```t=3```."
   ]
  },
  {
   "cell_type": "markdown",
   "id": "284285be-be3a-4a7a-b490-9462db653a5e",
   "metadata": {},
   "source": [
    "## Following divisions of specific cell cell"
   ]
  },
  {
   "cell_type": "markdown",
   "id": "53884f29-1960-41a3-bbde-45e0c032f4ee",
   "metadata": {},
   "source": [
    "Here we show how to follow the fate of cells. First we define the name of the cell to track:"
   ]
  },
  {
   "cell_type": "code",
   "execution_count": 18,
   "id": "6638db31-b507-465f-a4d6-4b631b7b6d1c",
   "metadata": {},
   "outputs": [],
   "source": [
    "cell_identity = 'guard'"
   ]
  },
  {
   "cell_type": "markdown",
   "id": "2b02acf4-26f6-488e-963a-5231a6873a09",
   "metadata": {},
   "source": [
    "Then we load the data in a clean way:"
   ]
  },
  {
   "cell_type": "code",
   "execution_count": 17,
   "id": "f25be5cb-5da4-4359-b8ef-433794e91a25",
   "metadata": {},
   "outputs": [],
   "source": [
    "complex_id = 2\n",
    "complex_list, current_track, graph, all_trees = postproc.load_complex_data(\n",
    "    export_folder=export_folder, complex_id=complex_id, props=props, properties=('area'))"
   ]
  },
  {
   "cell_type": "markdown",
   "id": "29c39533-c0db-4350-a478-4c10cd61b354",
   "metadata": {},
   "source": [
    "When processing the data, it's possible to give an identity to a cell only at the last genereation. But one may want to know the IDs of all cells that lead to that cell. For a cell with a given **identity** cell this can be done with ```guard_genealogy``` (the function is called like that but can be used with any identity):"
   ]
  },
  {
   "cell_type": "code",
   "execution_count": 19,
   "id": "0e3a90d7-3714-4532-abbc-557a367aa5ea",
   "metadata": {},
   "outputs": [
    {
     "data": {
      "text/plain": [
       "array([0, 2, 4, 5])"
      ]
     },
     "execution_count": 19,
     "metadata": {},
     "output_type": "execute_result"
    }
   ],
   "source": [
    "guard_tree = postproc.guard_genealogy(all_trees, cell_name=cell_identity)\n",
    "guard_tree"
   ]
  },
  {
   "cell_type": "markdown",
   "id": "9183af98-9198-4862-9acd-67f8a2fa8c12",
   "metadata": {},
   "source": [
    "Using the information of ```all_trees``` and ```guard_tree``` we can extract arbitrary information. For example the area over time for the guard cells:"
   ]
  },
  {
   "cell_type": "code",
   "execution_count": 20,
   "id": "225dbfbc-4d4b-4cdf-8bb0-703cb0f74365",
   "metadata": {},
   "outputs": [],
   "source": [
    "area_time = []\n",
    "for g in guard_tree:\n",
    "    area_time.append(all_trees[f'cell_{g}'].props)\n",
    "\n",
    "area_time = np.concat(area_time)"
   ]
  },
  {
   "cell_type": "code",
   "execution_count": 21,
   "id": "db453c66-c1af-4aee-894a-0c98c140fe2f",
   "metadata": {},
   "outputs": [
    {
     "data": {
      "text/plain": [
       "array([[  0., 391.],\n",
       "       [  1., 454.],\n",
       "       [  2., 195.],\n",
       "       [  3., 276.],\n",
       "       [  4., 202.],\n",
       "       [  5., 277.],\n",
       "       [  6., 383.],\n",
       "       [  7., 265.],\n",
       "       [  8., 419.],\n",
       "       [  9., 612.]])"
      ]
     },
     "execution_count": 21,
     "metadata": {},
     "output_type": "execute_result"
    }
   ],
   "source": [
    "area_time"
   ]
  },
  {
   "cell_type": "markdown",
   "id": "93db8981-8ce9-4a0d-84eb-22772b53ed53",
   "metadata": {},
   "source": [
    "We can also traverse the whole `all_trees` and plot area vs time, checking if a current track belong to the guard tree or not:"
   ]
  },
  {
   "cell_type": "code",
   "execution_count": 22,
   "id": "c845b9f1-bc97-4b4c-99c5-2919b163ed82",
   "metadata": {},
   "outputs": [
    {
     "data": {
      "image/png": "[encoded data removed]",
      "text/plain": [
       "<Figure size 640x480 with 1 Axes>"
      ]
     },
     "metadata": {},
     "output_type": "display_data"
    }
   ],
   "source": [
    "symbols = ['*','-','o','x', 'd']\n",
    "fig, ax = plt.subplots()\n",
    "ind = 0\n",
    "for key,val in all_trees.items():\n",
    "    if val.is_root:\n",
    "\n",
    "        if val.track_id in guard_tree:\n",
    "                ax.plot(val.props[:,0], val.props[:,1], f'r{symbols[ind%5]}-', label=f'{cell_identity} {val.name}')\n",
    "        else:\n",
    "            ax.plot(val.props[:,0], val.props[:,1], f'g{symbols[ind%5]}-', label=f'daughter {val.name}')\n",
    "                \n",
    "        for tr in val.descendants:\n",
    "            if tr.track_id in guard_tree:\n",
    "                ax.plot(tr.props[:,0], tr.props[:,1], f'r{symbols[ind%5]}-', label=f'{cell_identity} {tr.name}')\n",
    "            else:\n",
    "                ax.plot(tr.props[:,0], tr.props[:,1], f'g{symbols[ind%5]}-', label=f'daughter {tr.name}')\n",
    "        ind+=1\n",
    "ax.legend(); \n"
   ]
  },
  {
   "cell_type": "markdown",
   "id": "5858620f-6b9a-42fc-8a88-9082dfc78418",
   "metadata": {},
   "source": [
    "## Size up to division"
   ]
  },
  {
   "cell_type": "markdown",
   "id": "5727fd88-3e90-401d-8f9a-8826117ba86f",
   "metadata": {},
   "source": [
    "We have seen above that we could recover division events. We can follow tracks of cells and check for the total size up to division:"
   ]
  },
  {
   "cell_type": "code",
   "execution_count": 23,
   "id": "eb6e648d-fa77-4339-ac19-20f51e831c02",
   "metadata": {},
   "outputs": [],
   "source": [
    "complex_id = 4\n",
    "complex_list, current_track, graph, all_trees = postproc.load_complex_data(\n",
    "    export_folder=export_folder, complex_id=complex_id, props=props, properties=('area'))"
   ]
  },
  {
   "cell_type": "code",
   "execution_count": 24,
   "id": "d5ff74d0-d89f-462c-b65a-432da1d2cd0b",
   "metadata": {},
   "outputs": [
    {
     "name": "stdout",
     "output_type": "stream",
     "text": [
      "cell_0 guard\n",
      "cell_1 nan\n",
      "cell_2 nan\n",
      "cell_3 nan\n",
      "├── cell_4 nan\n",
      "└── cell_5 nan\n"
     ]
    }
   ],
   "source": [
    "postproc.display_tree(all_trees)"
   ]
  },
  {
   "cell_type": "code",
   "execution_count": 25,
   "id": "79512c32-38f1-4168-a5ce-898288ff488e",
   "metadata": {},
   "outputs": [
    {
     "data": {
      "text/plain": [
       "[{'id': 'cell_3', 'div_t': np.float64(3.0)}]"
      ]
     },
     "execution_count": 25,
     "metadata": {},
     "output_type": "execute_result"
    }
   ],
   "source": [
    "division_events = postproc.get_division_event(all_trees)\n",
    "division_events"
   ]
  },
  {
   "cell_type": "code",
   "execution_count": 26,
   "id": "0d8cfef2-8b60-4e8e-8b8f-6c3597d3777f",
   "metadata": {},
   "outputs": [],
   "source": [
    "# sum cell area up to division\n",
    "include_guard = True\n",
    "\n",
    "all_props = []\n",
    "for k in all_trees.keys():\n",
    "    if not include_guard:\n",
    "        if all_trees[k].identity == 'guard':\n",
    "            continue\n",
    "    cur_props = all_trees[k].props\n",
    "    #recover data pre-division\n",
    "    cur_props = cur_props[cur_props[:,0] <= division_events[0]['div_t']]\n",
    "    all_props.append(cur_props)\n",
    "all_props = pd.DataFrame(np.concat(all_props, axis=0), columns=('t','area'))"
   ]
  },
  {
   "cell_type": "markdown",
   "id": "c7558c58-5fb7-4a8a-a2d7-c4cd2f3b9d1b",
   "metadata": {},
   "source": [
    "The ```all_props``` DataFrame contains area size for all cells up to division (id is discarded here):"
   ]
  },
  {
   "cell_type": "code",
   "execution_count": 27,
   "id": "c50b9fd6-8dc0-4f2b-a919-ab08223fdfd0",
   "metadata": {},
   "outputs": [
    {
     "data": {
      "text/html": [
       "<div>\n",
       "<style scoped>\n",
       "    .dataframe tbody tr th:only-of-type {\n",
       "        vertical-align: middle;\n",
       "    }\n",
       "\n",
       "    .dataframe tbody tr th {\n",
       "        vertical-align: top;\n",
       "    }\n",
       "\n",
       "    .dataframe thead th {\n",
       "        text-align: right;\n",
       "    }\n",
       "</style>\n",
       "<table border=\"1\" class=\"dataframe\">\n",
       "  <thead>\n",
       "    <tr style=\"text-align: right;\">\n",
       "      <th></th>\n",
       "      <th>t</th>\n",
       "      <th>area</th>\n",
       "    </tr>\n",
       "  </thead>\n",
       "  <tbody>\n",
       "    <tr>\n",
       "      <th>0</th>\n",
       "      <td>0.0</td>\n",
       "      <td>544.0</td>\n",
       "    </tr>\n",
       "    <tr>\n",
       "      <th>1</th>\n",
       "      <td>1.0</td>\n",
       "      <td>764.0</td>\n",
       "    </tr>\n",
       "    <tr>\n",
       "      <th>2</th>\n",
       "      <td>2.0</td>\n",
       "      <td>1570.0</td>\n",
       "    </tr>\n",
       "    <tr>\n",
       "      <th>3</th>\n",
       "      <td>3.0</td>\n",
       "      <td>1966.0</td>\n",
       "    </tr>\n",
       "    <tr>\n",
       "      <th>4</th>\n",
       "      <td>0.0</td>\n",
       "      <td>501.0</td>\n",
       "    </tr>\n",
       "    <tr>\n",
       "      <th>5</th>\n",
       "      <td>1.0</td>\n",
       "      <td>596.0</td>\n",
       "    </tr>\n",
       "    <tr>\n",
       "      <th>6</th>\n",
       "      <td>2.0</td>\n",
       "      <td>581.0</td>\n",
       "    </tr>\n",
       "    <tr>\n",
       "      <th>7</th>\n",
       "      <td>3.0</td>\n",
       "      <td>739.0</td>\n",
       "    </tr>\n",
       "    <tr>\n",
       "      <th>8</th>\n",
       "      <td>0.0</td>\n",
       "      <td>704.0</td>\n",
       "    </tr>\n",
       "    <tr>\n",
       "      <th>9</th>\n",
       "      <td>1.0</td>\n",
       "      <td>850.0</td>\n",
       "    </tr>\n",
       "    <tr>\n",
       "      <th>10</th>\n",
       "      <td>2.0</td>\n",
       "      <td>825.0</td>\n",
       "    </tr>\n",
       "    <tr>\n",
       "      <th>11</th>\n",
       "      <td>3.0</td>\n",
       "      <td>1041.0</td>\n",
       "    </tr>\n",
       "    <tr>\n",
       "      <th>12</th>\n",
       "      <td>0.0</td>\n",
       "      <td>1580.0</td>\n",
       "    </tr>\n",
       "    <tr>\n",
       "      <th>13</th>\n",
       "      <td>1.0</td>\n",
       "      <td>1776.0</td>\n",
       "    </tr>\n",
       "    <tr>\n",
       "      <th>14</th>\n",
       "      <td>2.0</td>\n",
       "      <td>1836.0</td>\n",
       "    </tr>\n",
       "    <tr>\n",
       "      <th>15</th>\n",
       "      <td>3.0</td>\n",
       "      <td>2255.0</td>\n",
       "    </tr>\n",
       "  </tbody>\n",
       "</table>\n",
       "</div>"
      ],
      "text/plain": [
       "      t    area\n",
       "0   0.0   544.0\n",
       "1   1.0   764.0\n",
       "2   2.0  1570.0\n",
       "3   3.0  1966.0\n",
       "4   0.0   501.0\n",
       "5   1.0   596.0\n",
       "6   2.0   581.0\n",
       "7   3.0   739.0\n",
       "8   0.0   704.0\n",
       "9   1.0   850.0\n",
       "10  2.0   825.0\n",
       "11  3.0  1041.0\n",
       "12  0.0  1580.0\n",
       "13  1.0  1776.0\n",
       "14  2.0  1836.0\n",
       "15  3.0  2255.0"
      ]
     },
     "execution_count": 27,
     "metadata": {},
     "output_type": "execute_result"
    }
   ],
   "source": [
    "all_props"
   ]
  },
  {
   "cell_type": "markdown",
   "id": "f268332a-b2a7-47c3-956b-229583f6fa54",
   "metadata": {},
   "source": [
    "We can now sum up the values by `t` to get the full complex size across time, up to division:"
   ]
  },
  {
   "cell_type": "code",
   "execution_count": 28,
   "id": "20c2c4cc-0b70-4ebf-b2b3-d54358dc807a",
   "metadata": {},
   "outputs": [],
   "source": [
    "sum_area_t = all_props.groupby('t').sum().reset_index()"
   ]
  },
  {
   "cell_type": "code",
   "execution_count": 29,
   "id": "d061f756-d3aa-4f91-a97c-160504dcf38d",
   "metadata": {},
   "outputs": [
    {
     "data": {
      "image/png": "[encoded data removed]",
      "text/plain": [
       "<Figure size 640x480 with 1 Axes>"
      ]
     },
     "metadata": {},
     "output_type": "display_data"
    }
   ],
   "source": [
    "plt.plot(sum_area_t.t, sum_area_t.area);"
   ]
  },
  {
   "cell_type": "markdown",
   "id": "a5bb56df-c878-4359-828e-91b11bfc9e58",
   "metadata": {},
   "source": [
    "# Angle between divisions"
   ]
  },
  {
   "cell_type": "markdown",
   "id": "13b58dc1-311a-4f41-91d5-2ccc120dfd19",
   "metadata": {},
   "source": [
    "In case of multiple divisions leading to guard cell, we can track the angle between divisions:"
   ]
  },
  {
   "cell_type": "code",
   "execution_count": 30,
   "id": "e9b8ab01-9cba-4224-8513-0acf9024b8ef",
   "metadata": {},
   "outputs": [
    {
     "data": {
      "text/plain": [
       "array([0, 2, 4, 5])"
      ]
     },
     "execution_count": 30,
     "metadata": {},
     "output_type": "execute_result"
    }
   ],
   "source": [
    "complex_id = 2\n",
    "complex_list, current_track, graph, all_trees = postproc.load_complex_data(\n",
    "    export_folder=export_folder, complex_id=complex_id, props=props, properties=('area'))\n",
    "guard_tree = postproc.guard_genealogy(all_trees, cell_name=cell_identity)\n",
    "guard_tree"
   ]
  },
  {
   "cell_type": "code",
   "execution_count": 31,
   "id": "d3989b6c-82c2-4993-b0ec-c1799ca8bafe",
   "metadata": {},
   "outputs": [],
   "source": [
    "# add coordinates to tracks\n",
    "current_track = postproc.add_feature_to_track(current_track, props, 'coords')"
   ]
  },
  {
   "cell_type": "markdown",
   "id": "e7a255db-80ed-441d-9fc7-0c2f055c9884",
   "metadata": {},
   "source": [
    "Here we measure the division orientation by fitting a line to the division region:"
   ]
  },
  {
   "cell_type": "code",
   "execution_count": 32,
   "id": "d7afc4aa-6ef8-451c-943b-fccbb28047a0",
   "metadata": {},
   "outputs": [],
   "source": [
    "slopes = []\n",
    "for g in guard_tree:\n",
    "    pair = graph[graph.mother_id == g]\n",
    "\n",
    "    if len(pair) == 2:\n",
    "        slope = postproc.division_orientation(current_track, props,  pair.id.values[0], pair.id.values[1], im_dims=mask_stitched.shape[1::])\n",
    "        slopes.append(slope)"
   ]
  },
  {
   "cell_type": "code",
   "execution_count": 33,
   "id": "ac6b0ae1-bb03-4af0-8e0f-cc670ebe65fa",
   "metadata": {},
   "outputs": [],
   "source": [
    "angles = []\n",
    "for i in range(len(slopes)-1):\n",
    "    angle = np.arctan((slopes[i+1]-slopes[i])/(1+slopes[i+1]*slopes[i]))\n",
    "    angles.append(np.rad2deg(angle))"
   ]
  },
  {
   "cell_type": "code",
   "execution_count": 34,
   "id": "cebd4040-b976-4593-b135-6e0a934cdc83",
   "metadata": {},
   "outputs": [
    {
     "data": {
      "text/plain": [
       "[np.float64(58.74036246181386), np.float64(53.54706264570526)]"
      ]
     },
     "execution_count": 34,
     "metadata": {},
     "output_type": "execute_result"
    }
   ],
   "source": [
    "angles"
   ]
  },
  {
   "cell_type": "markdown",
   "id": "7e0aa22a-c3c6-4f0e-aa17-80447151ffd3",
   "metadata": {},
   "source": [
    "## Display divisions\n",
    "\n",
    "For visualization purposes we can align the movie of a complex on the guard cells. For this we need the additional information of the cell coordinates:"
   ]
  },
  {
   "cell_type": "code",
   "execution_count": 35,
   "id": "2ced98be-046b-4093-8454-f9046b77760a",
   "metadata": {},
   "outputs": [],
   "source": [
    "guard_tree_track = current_track[current_track.track_id.apply(lambda x: x in guard_tree)]\n",
    "guard_tree_track = guard_tree_track.set_index('t')\n",
    "guard_tree_track['mean_coord'] = guard_tree_track.coords.apply(lambda x: np.mean(x, axis=0).astype(np.uint16))"
   ]
  },
  {
   "cell_type": "code",
   "execution_count": 36,
   "id": "332d4ba2-69a6-4d65-a1a7-48b89565617b",
   "metadata": {},
   "outputs": [],
   "source": [
    "# center all coordinates with respect to guard cell\n",
    "centered_coords = []\n",
    "for i in current_track.index:\n",
    "    centered_coords.append(current_track.loc[i,'coords'] - guard_tree_track.loc[current_track.iloc[i,:]['t'],'mean_coord'])\n",
    "current_track['centered_coord'] = centered_coords"
   ]
  },
  {
   "cell_type": "code",
   "execution_count": 37,
   "id": "8f01e5cf-0ba4-4916-8f4c-c6d55e545515",
   "metadata": {},
   "outputs": [],
   "source": [
    "# create an image with new coordinates\n",
    "image = np.zeros((mask_stitched.shape[0], 200, 200), dtype=np.uint8)\n",
    "for t in np.unique(current_track.t):\n",
    "    table_t = current_track[current_track.t == t]\n",
    "    for ind, tt in table_t.iterrows():\n",
    "        image[t][tt.centered_coord[:,0] + 100, tt.centered_coord[:,1]+100] = tt.track_id\n"
   ]
  },
  {
   "cell_type": "code",
   "execution_count": 38,
   "id": "6de06b54-8606-4ee2-bec3-c4632e47bcf2",
   "metadata": {},
   "outputs": [
    {
     "data": {
      "text/plain": [
       "<Labels layer 'image' at 0x35b9cd600>"
      ]
     },
     "execution_count": 38,
     "metadata": {},
     "output_type": "execute_result"
    }
   ],
   "source": [
    "import napari\n",
    "viewer = napari.Viewer()\n",
    "viewer.add_labels(image)"
   ]
  },
  {
   "cell_type": "code",
   "execution_count": null,
   "id": "d6e7402b-3ee4-454d-80a1-c34d3047f33b",
   "metadata": {},
   "outputs": [],
   "source": []
  }
 ],
 "metadata": {
  "kernelspec": {
   "display_name": "Python 3 (ipykernel)",
   "language": "python",
   "name": "python3"
  },
  "language_info": {
   "codemirror_mode": {
    "name": "ipython",
    "version": 3
   },
   "file_extension": ".py",
   "mimetype": "text/x-python",
   "name": "python",
   "nbconvert_exporter": "python",
   "pygments_lexer": "ipython3",
   "version": "3.10.18"
  }
 },
 "nbformat": 4,
 "nbformat_minor": 5
}
